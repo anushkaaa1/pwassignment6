{
 "cells": [
  {
   "cell_type": "markdown",
   "id": "ac4b833f-733c-4d83-a571-a754355898b4",
   "metadata": {},
   "source": [
    "Q1. What is a tuple in python?\n",
    "\n",
    "ans. Tuple is used to store elements. It is immutable. We cannot change element in it."
   ]
  },
  {
   "cell_type": "markdown",
   "id": "d39cf5b1-eac9-4b92-a907-3477c7c34384",
   "metadata": {},
   "source": [
    "Q2. How do you create a tuple in python?\n",
    "\n",
    "ans. We create a tuple in python by placing all the elements inside the parentheses( )."
   ]
  },
  {
   "cell_type": "markdown",
   "id": "b693e1c5-1732-4700-ad9f-782277a3dbb2",
   "metadata": {},
   "source": [
    "Q3. What is the difference between a tuple and a list in python?\n",
    "\n",
    "ans. The difference between a tuple and a list in python is list is mutable. We can assign elements in list easily. But tuple is immutable. We cannot assign element in it."
   ]
  },
  {
   "cell_type": "markdown",
   "id": "a264f3ac-45a2-4577-bd32-18da138b2eb8",
   "metadata": {},
   "source": [
    "Q4. Can a tuple be changed in python?\n",
    "\n",
    "ans. No, a tuple cannot be changed in python."
   ]
  },
  {
   "cell_type": "markdown",
   "id": "9d668f1f-d07e-4f6b-b95b-2b4f45927099",
   "metadata": {},
   "source": [
    "Q5. How do you access elements in a tuple?\n",
    "\n",
    "ans. We access elements in tuple using index value."
   ]
  },
  {
   "cell_type": "code",
   "execution_count": 1,
   "id": "4f041154-269b-4772-b406-b3c9c1bd3a4f",
   "metadata": {},
   "outputs": [
    {
     "name": "stdout",
     "output_type": "stream",
     "text": [
      "4\n"
     ]
    }
   ],
   "source": [
    "a = (2,4,5)\n",
    "print(a[1])"
   ]
  },
  {
   "cell_type": "markdown",
   "id": "f14e8bfa-a922-46d5-a02b-74467028f915",
   "metadata": {},
   "source": [
    "Q6. How do you unpack a tuple in python?\n",
    "\n",
    "ans. We unpack a tuple by converting them into list."
   ]
  },
  {
   "cell_type": "code",
   "execution_count": 6,
   "id": "94bfb064-da1f-45ef-81dc-17e240e1ed48",
   "metadata": {},
   "outputs": [
    {
     "name": "stdout",
     "output_type": "stream",
     "text": [
      "(2, 3, 4, 7)\n",
      "<class 'tuple'>\n"
     ]
    }
   ],
   "source": [
    "a = (2,3,4)\n",
    "a = list(a)\n",
    "a.append(7)\n",
    "a = tuple(a)\n",
    "print(a)\n",
    "print(type(a))"
   ]
  },
  {
   "cell_type": "code",
   "execution_count": null,
   "id": "408d2b66-6966-47ef-be39-9e6db6bcebda",
   "metadata": {},
   "outputs": [],
   "source": []
  }
 ],
 "metadata": {
  "kernelspec": {
   "display_name": "Python 3 (ipykernel)",
   "language": "python",
   "name": "python3"
  },
  "language_info": {
   "codemirror_mode": {
    "name": "ipython",
    "version": 3
   },
   "file_extension": ".py",
   "mimetype": "text/x-python",
   "name": "python",
   "nbconvert_exporter": "python",
   "pygments_lexer": "ipython3",
   "version": "3.10.8"
  }
 },
 "nbformat": 4,
 "nbformat_minor": 5
}
